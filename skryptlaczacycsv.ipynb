{
 "cells": [
  {
   "cell_type": "code",
   "execution_count": 3,
   "metadata": {},
   "outputs": [
    {
     "data": {
      "text/html": [
       "<div>\n",
       "<style scoped>\n",
       "    .dataframe tbody tr th:only-of-type {\n",
       "        vertical-align: middle;\n",
       "    }\n",
       "\n",
       "    .dataframe tbody tr th {\n",
       "        vertical-align: top;\n",
       "    }\n",
       "\n",
       "    .dataframe thead th {\n",
       "        text-align: right;\n",
       "    }\n",
       "</style>\n",
       "<table border=\"1\" class=\"dataframe\">\n",
       "  <thead>\n",
       "    <tr style=\"text-align: right;\">\n",
       "      <th></th>\n",
       "      <th>MX</th>\n",
       "      <th>CUL</th>\n",
       "      <th>Culiacan</th>\n",
       "    </tr>\n",
       "  </thead>\n",
       "  <tbody>\n",
       "    <tr>\n",
       "      <th>0</th>\n",
       "      <td>DE</td>\n",
       "      <td>KLT</td>\n",
       "      <td>Kaiserslautern</td>\n",
       "    </tr>\n",
       "    <tr>\n",
       "      <th>1</th>\n",
       "      <td>CA</td>\n",
       "      <td>YQQ</td>\n",
       "      <td>Comox</td>\n",
       "    </tr>\n",
       "    <tr>\n",
       "      <th>2</th>\n",
       "      <td>CA</td>\n",
       "      <td>ZPB</td>\n",
       "      <td>Sachigo Lake</td>\n",
       "    </tr>\n",
       "    <tr>\n",
       "      <th>3</th>\n",
       "      <td>RO</td>\n",
       "      <td>BAY</td>\n",
       "      <td>Baia Mare</td>\n",
       "    </tr>\n",
       "    <tr>\n",
       "      <th>4</th>\n",
       "      <td>US</td>\n",
       "      <td>LYH</td>\n",
       "      <td>Lynchburg</td>\n",
       "    </tr>\n",
       "    <tr>\n",
       "      <th>...</th>\n",
       "      <td>...</td>\n",
       "      <td>...</td>\n",
       "      <td>...</td>\n",
       "    </tr>\n",
       "    <tr>\n",
       "      <th>770</th>\n",
       "      <td>GL</td>\n",
       "      <td>JHS</td>\n",
       "      <td>Sisimiut</td>\n",
       "    </tr>\n",
       "    <tr>\n",
       "      <th>771</th>\n",
       "      <td>PH</td>\n",
       "      <td>TAC</td>\n",
       "      <td>Tacloban</td>\n",
       "    </tr>\n",
       "    <tr>\n",
       "      <th>772</th>\n",
       "      <td>RU</td>\n",
       "      <td>GYG</td>\n",
       "      <td>Magan</td>\n",
       "    </tr>\n",
       "    <tr>\n",
       "      <th>773</th>\n",
       "      <td>CN</td>\n",
       "      <td>HSN</td>\n",
       "      <td>Zhoushan</td>\n",
       "    </tr>\n",
       "    <tr>\n",
       "      <th>774</th>\n",
       "      <td>IN</td>\n",
       "      <td>ATQ</td>\n",
       "      <td>Amritsar</td>\n",
       "    </tr>\n",
       "  </tbody>\n",
       "</table>\n",
       "<p>775 rows × 3 columns</p>\n",
       "</div>"
      ],
      "text/plain": [
       "     MX  CUL        Culiacan\n",
       "0    DE  KLT  Kaiserslautern\n",
       "1    CA  YQQ           Comox\n",
       "2    CA  ZPB    Sachigo Lake\n",
       "3    RO  BAY       Baia Mare\n",
       "4    US  LYH       Lynchburg\n",
       "..   ..  ...             ...\n",
       "770  GL  JHS        Sisimiut\n",
       "771  PH  TAC        Tacloban\n",
       "772  RU  GYG           Magan\n",
       "773  CN  HSN        Zhoushan\n",
       "774  IN  ATQ        Amritsar\n",
       "\n",
       "[775 rows x 3 columns]"
      ]
     },
     "execution_count": 3,
     "metadata": {},
     "output_type": "execute_result"
    }
   ],
   "source": [
    "import pandas\n",
    "df = pandas.read_csv('drugaczesc.csv')\n",
    "df"
   ]
  },
  {
   "cell_type": "code",
   "execution_count": 4,
   "metadata": {},
   "outputs": [],
   "source": [
    "#dopisywanie do istniejącego csv\n",
    "df.to_csv('pierwszaczesc.csv', mode='a', index=False, header=True)"
   ]
  },
  {
   "cell_type": "code",
   "execution_count": 5,
   "metadata": {},
   "outputs": [],
   "source": [
    "df3 = pandas.read_csv('trzeciaczesc.csv')\n",
    "df3.to_csv('pierwszaczesc.csv', mode='a', index=False, header=True)"
   ]
  },
  {
   "cell_type": "code",
   "execution_count": 6,
   "metadata": {},
   "outputs": [],
   "source": [
    "df4 = pandas.read_csv('czwartaczesc.csv')\n",
    "df4.to_csv('pierwszaczesc.csv', mode='a', index=False, header=True)"
   ]
  },
  {
   "cell_type": "code",
   "execution_count": 7,
   "metadata": {},
   "outputs": [],
   "source": [
    "wszystkielotniska = pandas.read_csv('pierwszaczesc.csv')"
   ]
  },
  {
   "cell_type": "code",
   "execution_count": 9,
   "metadata": {},
   "outputs": [],
   "source": [
    "wszystkielotniska.to_csv('wszystkielotniska.csv', mode='w', index=False, header=True)"
   ]
  }
 ],
 "metadata": {
  "interpreter": {
   "hash": "31f2aee4e71d21fbe5cf8b01ff0e069b9275f58929596ceb00d14d90e3e16cd6"
  },
  "kernelspec": {
   "display_name": "Python 3.8.2 64-bit",
   "language": "python",
   "name": "python3"
  },
  "language_info": {
   "codemirror_mode": {
    "name": "ipython",
    "version": 3
   },
   "file_extension": ".py",
   "mimetype": "text/x-python",
   "name": "python",
   "nbconvert_exporter": "python",
   "pygments_lexer": "ipython3",
   "version": "3.8.2"
  },
  "orig_nbformat": 4
 },
 "nbformat": 4,
 "nbformat_minor": 2
}
